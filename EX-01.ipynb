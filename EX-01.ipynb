{
 "cells": [
  {
   "cell_type": "code",
   "execution_count": 42,
   "id": "81a44a1d",
   "metadata": {},
   "outputs": [
    {
     "name": "stdout",
     "output_type": "stream",
     "text": [
      "Location: A, Dirt Status: {'A': True, 'B': True},Perfomance Measure: -1\n",
      "Sucked dirt in location A\n",
      "Location: A, Dirt Status: {'A': False, 'B': True},Perfomance Measure: 9\n",
      "Location: B, Dirt Status: {'A': False, 'B': True},Perfomance Measure: 8\n",
      "Sucked dirt in location B\n",
      "Location: B, Dirt Status: {'A': False, 'B': False},Perfomance Measure: 18\n",
      "Location: B, Dirt Status: {'A': False, 'B': False},Perfomance Measure: 18\n"
     ]
    }
   ],
   "source": [
    "import random\n",
    "class VacuumCleanerAgent:\n",
    "    def __init__(self): # Initialize the agent's state (location and dirt status)\n",
    "        self.location = \"A\"  # Initial location (can be \"A\" or \"B\")\n",
    "        self.dirt_status = {\"A\": True, \"B\": True}  # Initial dirt status (False means no dirt)\n",
    "        self.performance=0\n",
    "    def move_left(self): # Move the agent to the left if possible\n",
    "        if self.location == \"B\":\n",
    "            self.location = \"A\"\n",
    "    def move_right(self): # Move the agent to the right if possible\n",
    "        if self.location == \"A\":\n",
    "            self.location = \"B\"\n",
    "    def suck_dirt(self): # Suck dirt in the current location if there is dirt\n",
    "        if self.dirt_status[self.location]:\n",
    "            self.dirt_status[self.location] = False\n",
    "            print(f\"Sucked dirt in location {self.location}\")\n",
    "    def do_nothing(self): # Do nothing\n",
    "        pass\n",
    "    def perform_action(self, action): # Perform the specified action\n",
    "        if action == \"left\":\n",
    "            self.performance=self.performance-1\n",
    "            self.move_left()\n",
    "        elif action == \"right\":\n",
    "            self.performance=self.performance-1\n",
    "            self.move_right()\n",
    "        elif action == \"suck\":\n",
    "            self.performance=self.performance+10\n",
    "            self.suck_dirt()\n",
    "        elif action == \"nothing\":\n",
    "            self.do_nothing()\n",
    "        else:\n",
    "            print(\"Invalid action\")\n",
    "    def print_status(self): # Print the current status of the agent\n",
    "        print(f\"Location: {self.location}, Dirt Status: {self.dirt_status}, \",end=\"\")\n",
    "        print(f\"Perfomance Measure: {self.performance}\")\n",
    "# Example usage:\n",
    "agent = VacuumCleanerAgent()\n",
    "# Move the agent, suck dirt, and do nothing\n",
    "agent.perform_action(\"left\")\n",
    "agent.print_status()\n",
    "agent.perform_action(\"suck\")\n",
    "agent.print_status()\n",
    "agent.perform_action(\"right\")\n",
    "agent.print_status()\n",
    "agent.perform_action(\"suck\")\n",
    "agent.print_status()\n",
    "agent.perform_action(\"nothing\")\n",
    "agent.print_status()"
   ]
  },
  {
   "cell_type": "code",
   "execution_count": null,
   "id": "41ad9bb7",
   "metadata": {},
   "outputs": [],
   "source": []
  },
  {
   "cell_type": "code",
   "execution_count": null,
   "id": "2d53a83e",
   "metadata": {},
   "outputs": [],
   "source": []
  }
 ],
 "metadata": {
  "kernelspec": {
   "display_name": "Python 3 (ipykernel)",
   "language": "python",
   "name": "python3"
  },
  "language_info": {
   "codemirror_mode": {
    "name": "ipython",
    "version": 3
   },
   "file_extension": ".py",
   "mimetype": "text/x-python",
   "name": "python",
   "nbconvert_exporter": "python",
   "pygments_lexer": "ipython3",
   "version": "3.9.13"
  }
 },
 "nbformat": 4,
 "nbformat_minor": 5
}
